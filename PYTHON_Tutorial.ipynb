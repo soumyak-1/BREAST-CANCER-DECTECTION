{
  "nbformat": 4,
  "nbformat_minor": 0,
  "metadata": {
    "colab": {
      "name": "PYTHON Tutorial.ipynb",
      "provenance": [],
      "authorship_tag": "ABX9TyO/EUqTqA5tYBB1tza+UCMc",
      "include_colab_link": true
    },
    "kernelspec": {
      "name": "python3",
      "display_name": "Python 3"
    },
    "language_info": {
      "name": "python"
    }
  },
  "cells": [
    {
      "cell_type": "markdown",
      "metadata": {
        "id": "view-in-github",
        "colab_type": "text"
      },
      "source": [
        "<a href=\"https://colab.research.google.com/github/soumyak-1/BREAST-CANCER-DECTECTION/blob/main/PYTHON_Tutorial.ipynb\" target=\"_parent\"><img src=\"https://colab.research.google.com/assets/colab-badge.svg\" alt=\"Open In Colab\"/></a>"
      ]
    },
    {
      "cell_type": "code",
      "execution_count": null,
      "metadata": {
        "colab": {
          "base_uri": "https://localhost:8080/"
        },
        "id": "wZ4oXl8erRK1",
        "outputId": "15e205a2-021d-4029-df44-0a372ee75ca1"
      },
      "outputs": [
        {
          "output_type": "stream",
          "name": "stdout",
          "text": [
            "/usr/local/bin/python\n"
          ]
        }
      ],
      "source": [
        "# Python Storage Location\n",
        "!which python"
      ]
    },
    {
      "cell_type": "code",
      "source": [
        "# check the current version\n",
        "!python --version"
      ],
      "metadata": {
        "colab": {
          "base_uri": "https://localhost:8080/"
        },
        "id": "MZEo17vurkWr",
        "outputId": "52226a97-0c5e-418c-e265-d8ae6eb1dec8"
      },
      "execution_count": null,
      "outputs": [
        {
          "output_type": "stream",
          "name": "stdout",
          "text": [
            "Python 3.7.13\n"
          ]
        }
      ]
    },
    {
      "cell_type": "code",
      "source": [
        "2+5*6"
      ],
      "metadata": {
        "colab": {
          "base_uri": "https://localhost:8080/"
        },
        "id": "LffflyGfrsOJ",
        "outputId": "2374e98e-d87d-40ac-d499-77fd3a9b1d04"
      },
      "execution_count": null,
      "outputs": [
        {
          "output_type": "execute_result",
          "data": {
            "text/plain": [
              "32"
            ]
          },
          "metadata": {},
          "execution_count": 3
        }
      ]
    },
    {
      "cell_type": "code",
      "source": [
        "(7/6)**3"
      ],
      "metadata": {
        "colab": {
          "base_uri": "https://localhost:8080/"
        },
        "id": "f05KwHTHr1OE",
        "outputId": "0d462aea-a22a-47db-978c-426de4062f02"
      },
      "execution_count": null,
      "outputs": [
        {
          "output_type": "execute_result",
          "data": {
            "text/plain": [
              "1.5879629629629632"
            ]
          },
          "metadata": {},
          "execution_count": 4
        }
      ]
    },
    {
      "cell_type": "code",
      "source": [
        "a=10\n",
        "b=20"
      ],
      "metadata": {
        "id": "vce9LqqMr5rF"
      },
      "execution_count": null,
      "outputs": []
    },
    {
      "cell_type": "code",
      "source": [
        "print(type(a))\n",
        "print(type(b))"
      ],
      "metadata": {
        "colab": {
          "base_uri": "https://localhost:8080/"
        },
        "id": "ISASM1iztvs0",
        "outputId": "d94f5df1-a197-458c-dd54-5d9911308c9e"
      },
      "execution_count": null,
      "outputs": [
        {
          "output_type": "stream",
          "name": "stdout",
          "text": [
            "<class 'int'>\n",
            "<class 'int'>\n"
          ]
        }
      ]
    },
    {
      "cell_type": "code",
      "source": [
        "10*6"
      ],
      "metadata": {
        "colab": {
          "base_uri": "https://localhost:8080/"
        },
        "id": "HeDW-A0Ht2Eu",
        "outputId": "fb2ed73a-fcaf-4cbf-bba1-53641c28c9e7"
      },
      "execution_count": null,
      "outputs": [
        {
          "output_type": "execute_result",
          "data": {
            "text/plain": [
              "60"
            ]
          },
          "metadata": {},
          "execution_count": 7
        }
      ]
    },
    {
      "cell_type": "code",
      "source": [
        "_"
      ],
      "metadata": {
        "colab": {
          "base_uri": "https://localhost:8080/"
        },
        "id": "p2qhxuUHuXqe",
        "outputId": "bcd4bd52-f2a1-4d86-9bd9-e7b5727d08ed"
      },
      "execution_count": null,
      "outputs": [
        {
          "output_type": "execute_result",
          "data": {
            "text/plain": [
              "60"
            ]
          },
          "metadata": {},
          "execution_count": 8
        }
      ]
    },
    {
      "cell_type": "code",
      "source": [
        "type(_)"
      ],
      "metadata": {
        "colab": {
          "base_uri": "https://localhost:8080/"
        },
        "id": "hOxANSVEuZMZ",
        "outputId": "a66cd3f2-a1f6-4e9e-e809-e07cd7ce576c"
      },
      "execution_count": null,
      "outputs": [
        {
          "output_type": "execute_result",
          "data": {
            "text/plain": [
              "int"
            ]
          },
          "metadata": {},
          "execution_count": 9
        }
      ]
    },
    {
      "cell_type": "code",
      "source": [
        "!pip install kora "
      ],
      "metadata": {
        "colab": {
          "base_uri": "https://localhost:8080/"
        },
        "id": "6AGN3uuXucOT",
        "outputId": "4e8cb576-ca2e-4785-94bb-c98bb5a80ee4"
      },
      "execution_count": null,
      "outputs": [
        {
          "output_type": "stream",
          "name": "stdout",
          "text": [
            "Collecting kora\n",
            "  Downloading kora-0.9.19-py3-none-any.whl (57 kB)\n",
            "\u001b[?25l\r\u001b[K     |█████▊                          | 10 kB 25.3 MB/s eta 0:00:01\r\u001b[K     |███████████▍                    | 20 kB 28.2 MB/s eta 0:00:01\r\u001b[K     |█████████████████               | 30 kB 19.9 MB/s eta 0:00:01\r\u001b[K     |██████████████████████▊         | 40 kB 13.5 MB/s eta 0:00:01\r\u001b[K     |████████████████████████████▍   | 51 kB 8.9 MB/s eta 0:00:01\r\u001b[K     |████████████████████████████████| 57 kB 3.5 MB/s \n",
            "\u001b[?25hCollecting fastcore\n",
            "  Downloading fastcore-1.3.29-py3-none-any.whl (55 kB)\n",
            "\u001b[K     |████████████████████████████████| 55 kB 3.9 MB/s \n",
            "\u001b[?25hRequirement already satisfied: ipython in /usr/local/lib/python3.7/dist-packages (from kora) (5.5.0)\n",
            "Requirement already satisfied: pip in /usr/local/lib/python3.7/dist-packages (from fastcore->kora) (21.1.3)\n",
            "Requirement already satisfied: packaging in /usr/local/lib/python3.7/dist-packages (from fastcore->kora) (21.3)\n",
            "Requirement already satisfied: simplegeneric>0.8 in /usr/local/lib/python3.7/dist-packages (from ipython->kora) (0.8.1)\n",
            "Requirement already satisfied: decorator in /usr/local/lib/python3.7/dist-packages (from ipython->kora) (4.4.2)\n",
            "Requirement already satisfied: prompt-toolkit<2.0.0,>=1.0.4 in /usr/local/lib/python3.7/dist-packages (from ipython->kora) (1.0.18)\n",
            "Requirement already satisfied: traitlets>=4.2 in /usr/local/lib/python3.7/dist-packages (from ipython->kora) (5.1.1)\n",
            "Requirement already satisfied: pygments in /usr/local/lib/python3.7/dist-packages (from ipython->kora) (2.6.1)\n",
            "Requirement already satisfied: pexpect in /usr/local/lib/python3.7/dist-packages (from ipython->kora) (4.8.0)\n",
            "Requirement already satisfied: pickleshare in /usr/local/lib/python3.7/dist-packages (from ipython->kora) (0.7.5)\n",
            "Requirement already satisfied: setuptools>=18.5 in /usr/local/lib/python3.7/dist-packages (from ipython->kora) (57.4.0)\n",
            "Requirement already satisfied: wcwidth in /usr/local/lib/python3.7/dist-packages (from prompt-toolkit<2.0.0,>=1.0.4->ipython->kora) (0.2.5)\n",
            "Requirement already satisfied: six>=1.9.0 in /usr/local/lib/python3.7/dist-packages (from prompt-toolkit<2.0.0,>=1.0.4->ipython->kora) (1.15.0)\n",
            "Requirement already satisfied: pyparsing!=3.0.5,>=2.0.2 in /usr/local/lib/python3.7/dist-packages (from packaging->fastcore->kora) (3.0.7)\n",
            "Requirement already satisfied: ptyprocess>=0.5 in /usr/local/lib/python3.7/dist-packages (from pexpect->ipython->kora) (0.7.0)\n",
            "Installing collected packages: fastcore, kora\n",
            "Successfully installed fastcore-1.3.29 kora-0.9.19\n"
          ]
        }
      ]
    },
    {
      "cell_type": "code",
      "source": [
        "n1 = 'xzelk'\n",
        "n2 = 'abcdef'\n",
        "print(n1, type(n1))\n",
        "print(n2, type(n2))"
      ],
      "metadata": {
        "id": "h8sKBSE6xPIO",
        "colab": {
          "base_uri": "https://localhost:8080/"
        },
        "outputId": "5a9aab68-c319-4689-ede9-f9d3683eabe6"
      },
      "execution_count": null,
      "outputs": [
        {
          "output_type": "stream",
          "name": "stdout",
          "text": [
            "xzelk <class 'str'>\n",
            "abcdef <class 'str'>\n"
          ]
        }
      ]
    },
    {
      "cell_type": "code",
      "source": [
        "name =\"my name is\\\"abscd\\\" working in jghfjfk\"\n",
        "print(name)"
      ],
      "metadata": {
        "colab": {
          "base_uri": "https://localhost:8080/"
        },
        "id": "EgjquBfn2fjM",
        "outputId": "1fa778cb-dbff-416e-dfea-49b8af833065"
      },
      "execution_count": null,
      "outputs": [
        {
          "output_type": "stream",
          "name": "stdout",
          "text": [
            "my name is\"abscd\" working in jghfjfk\n"
          ]
        }
      ]
    },
    {
      "cell_type": "code",
      "source": [
        "name1 =\"my name is'abscd' working in jghfjfk\"\n",
        "print(name1)"
      ],
      "metadata": {
        "colab": {
          "base_uri": "https://localhost:8080/"
        },
        "id": "PZ9d8ijS3u1Y",
        "outputId": "c9773aad-1c7b-4051-d1d6-f7683446f90d"
      },
      "execution_count": null,
      "outputs": [
        {
          "output_type": "stream",
          "name": "stdout",
          "text": [
            "my name is'abscd' working in jghfjfk\n"
          ]
        }
      ]
    },
    {
      "cell_type": "code",
      "source": [
        "# String concatenation\n",
        "s1 = \"My name is abc\"\n",
        "s2 = \"My name is xyz\"\n",
        "s3 = s1 + s2"
      ],
      "metadata": {
        "id": "q2w3aI6C38_9"
      },
      "execution_count": null,
      "outputs": []
    },
    {
      "cell_type": "code",
      "source": [
        "s3"
      ],
      "metadata": {
        "colab": {
          "base_uri": "https://localhost:8080/",
          "height": 35
        },
        "id": "xyebd3PHmo_7",
        "outputId": "dbd02928-b61d-4ce6-ff1f-759634a4e8e8"
      },
      "execution_count": null,
      "outputs": [
        {
          "output_type": "execute_result",
          "data": {
            "text/plain": [
              "'My name is abcMy name is xyz'"
            ],
            "application/vnd.google.colaboratory.intrinsic+json": {
              "type": "string"
            }
          },
          "metadata": {},
          "execution_count": 15
        }
      ]
    },
    {
      "cell_type": "code",
      "source": [
        "# String Repetition\n",
        "alpha = 'a'\n",
        "w = 'programming'\n",
        "state = 'This is a programming class'\n",
        "print(alpha*10)\n",
        "print(w*5)\n",
        "print(state*3)"
      ],
      "metadata": {
        "colab": {
          "base_uri": "https://localhost:8080/"
        },
        "id": "3HbTS_frmqs6",
        "outputId": "e134e9a1-df75-4fa3-db38-fdd46fe37545"
      },
      "execution_count": null,
      "outputs": [
        {
          "output_type": "stream",
          "name": "stdout",
          "text": [
            "aaaaaaaaaa\n",
            "programmingprogrammingprogrammingprogrammingprogramming\n",
            "This is a programming classThis is a programming classThis is a programming class\n"
          ]
        }
      ]
    },
    {
      "cell_type": "code",
      "source": [
        "name = 'abc'\n",
        "fname = name +'xyz'\n",
        "print(fname)"
      ],
      "metadata": {
        "colab": {
          "base_uri": "https://localhost:8080/"
        },
        "id": "YE0Dr9r3n8YB",
        "outputId": "928eeb45-7071-4966-f910-fcd58edc7c6d"
      },
      "execution_count": null,
      "outputs": [
        {
          "output_type": "stream",
          "name": "stdout",
          "text": [
            "abcxyz\n"
          ]
        }
      ]
    },
    {
      "cell_type": "code",
      "source": [
        "#Extract character using string indexing using +ve/-ve\n",
        "name = 'Wonderful'\n",
        "print(name[3])\n",
        "print(name[-2])\n",
        "slice1 = name[:2]\n",
        "print(slice1)"
      ],
      "metadata": {
        "colab": {
          "base_uri": "https://localhost:8080/"
        },
        "id": "TKVv7G9EoKYu",
        "outputId": "939c6a91-2785-4f07-a822-7425c42c00cd"
      },
      "execution_count": null,
      "outputs": [
        {
          "output_type": "stream",
          "name": "stdout",
          "text": [
            "d\n",
            "u\n",
            "Wo\n"
          ]
        }
      ]
    },
    {
      "cell_type": "code",
      "source": [
        "#Immutable \n",
        "newname = name[:3] + 'm'\n",
        "print(newname)"
      ],
      "metadata": {
        "colab": {
          "base_uri": "https://localhost:8080/"
        },
        "id": "lhR3oIn9oryn",
        "outputId": "ec380335-0e3d-4292-938c-38f6b8d00f0d"
      },
      "execution_count": null,
      "outputs": [
        {
          "output_type": "stream",
          "name": "stdout",
          "text": [
            "Wonm\n"
          ]
        }
      ]
    },
    {
      "cell_type": "code",
      "source": [
        "name = 'Vansh'\n",
        "age = 20\n",
        "height = 5.9\n",
        "position = 'mentor'"
      ],
      "metadata": {
        "id": "a0f9b4Wfqksw"
      },
      "execution_count": null,
      "outputs": []
    },
    {
      "cell_type": "code",
      "source": [
        "mylist = [name, age, height, position]\n",
        "mylist"
      ],
      "metadata": {
        "colab": {
          "base_uri": "https://localhost:8080/"
        },
        "id": "ZILo437GrGj8",
        "outputId": "123f056f-bda3-4209-a9b2-9453f84d01c8"
      },
      "execution_count": null,
      "outputs": [
        {
          "output_type": "execute_result",
          "data": {
            "text/plain": [
              "['Vansh', 20, 5.9, 'mentor']"
            ]
          },
          "metadata": {},
          "execution_count": 21
        }
      ]
    },
    {
      "cell_type": "code",
      "source": [
        "r_no = [1,8,5,6,2,9]\n",
        "index = 0\n",
        "for i in r_no:\n",
        "  print(index, i)\n",
        "  index+=1"
      ],
      "metadata": {
        "colab": {
          "base_uri": "https://localhost:8080/"
        },
        "id": "ChrWjjXPrPYJ",
        "outputId": "b74fc1f4-2198-45eb-f1ad-90513ba0868c"
      },
      "execution_count": null,
      "outputs": [
        {
          "output_type": "stream",
          "name": "stdout",
          "text": [
            "0 1\n",
            "1 8\n",
            "2 5\n",
            "3 6\n",
            "4 2\n",
            "5 9\n"
          ]
        }
      ]
    },
    {
      "cell_type": "code",
      "source": [
        "#Simple program for slicing\n",
        "\n",
        "inclusive = int(input(\"Enter inclusive index: \"))\n",
        "exclusive = int(input(\"Enter exclusive index\"))\n",
        "r_no[inclusive:exclusive]"
      ],
      "metadata": {
        "colab": {
          "base_uri": "https://localhost:8080/"
        },
        "id": "ke80CU9-rp3p",
        "outputId": "d3f99c5c-e6cf-4b42-9ce8-d18e3310aa62"
      },
      "execution_count": null,
      "outputs": [
        {
          "name": "stdout",
          "output_type": "stream",
          "text": [
            "Enter inclusive index: 2\n",
            "Enter exclusive index3\n"
          ]
        },
        {
          "output_type": "execute_result",
          "data": {
            "text/plain": [
              "[5]"
            ]
          },
          "metadata": {},
          "execution_count": 23
        }
      ]
    },
    {
      "cell_type": "code",
      "source": [
        "# List are mutable and their can be changed\n",
        "# Update slice in lists"
      ],
      "metadata": {
        "id": "bsE972I4sbyH"
      },
      "execution_count": null,
      "outputs": []
    },
    {
      "cell_type": "code",
      "source": [
        "l2 = [31, 5.6, \"shivam\"]\n",
        "conc_res = l2\n",
        "conc_res"
      ],
      "metadata": {
        "colab": {
          "base_uri": "https://localhost:8080/"
        },
        "id": "HNWTFbVAp7Pa",
        "outputId": "70f61c87-411a-4077-9813-b4dcbce1c80a"
      },
      "execution_count": null,
      "outputs": [
        {
          "output_type": "execute_result",
          "data": {
            "text/plain": [
              "[31, 5.6, 'shivam']"
            ]
          },
          "metadata": {},
          "execution_count": 25
        }
      ]
    },
    {
      "cell_type": "code",
      "source": [
        "# Nesting feature is available in lists"
      ],
      "metadata": {
        "id": "8SLy6j6cqMVE"
      },
      "execution_count": null,
      "outputs": []
    },
    {
      "cell_type": "code",
      "source": [
        "a = [1,2,3,4,5]\n",
        "b = [6,7,8,7,6,5,5]\n",
        "nested_list = [a, b]\n",
        "nested_list"
      ],
      "metadata": {
        "colab": {
          "base_uri": "https://localhost:8080/"
        },
        "id": "CM5SMJldqYtF",
        "outputId": "d06dab4e-837c-4b17-dfe1-3a9f7db0c032"
      },
      "execution_count": null,
      "outputs": [
        {
          "output_type": "execute_result",
          "data": {
            "text/plain": [
              "[[1, 2, 3, 4, 5], [6, 7, 8, 7, 6, 5, 5]]"
            ]
          },
          "metadata": {},
          "execution_count": 27
        }
      ]
    },
    {
      "cell_type": "code",
      "source": [
        "nested_list[1][3]"
      ],
      "metadata": {
        "colab": {
          "base_uri": "https://localhost:8080/"
        },
        "id": "PlK8VBn1qpqJ",
        "outputId": "30febd82-d9e8-4d9e-9489-e3240f2db3d0"
      },
      "execution_count": null,
      "outputs": [
        {
          "output_type": "execute_result",
          "data": {
            "text/plain": [
              "7"
            ]
          },
          "metadata": {},
          "execution_count": 28
        }
      ]
    },
    {
      "cell_type": "code",
      "source": [
        "a.insert(0,10)"
      ],
      "metadata": {
        "id": "_LOJWx0-qvlj"
      },
      "execution_count": null,
      "outputs": []
    },
    {
      "cell_type": "code",
      "source": [
        "a"
      ],
      "metadata": {
        "colab": {
          "base_uri": "https://localhost:8080/"
        },
        "id": "a5AaLThrq6oF",
        "outputId": "a3b42870-fb71-43ba-96e8-e3ac328214fb"
      },
      "execution_count": null,
      "outputs": [
        {
          "output_type": "execute_result",
          "data": {
            "text/plain": [
              "[10, 1, 2, 3, 4, 5]"
            ]
          },
          "metadata": {},
          "execution_count": 30
        }
      ]
    },
    {
      "cell_type": "code",
      "source": [
        "a.extend(b)"
      ],
      "metadata": {
        "id": "Lxk9MwFFq781"
      },
      "execution_count": null,
      "outputs": []
    },
    {
      "cell_type": "code",
      "source": [
        "a"
      ],
      "metadata": {
        "colab": {
          "base_uri": "https://localhost:8080/"
        },
        "id": "Sz3GiucorFrv",
        "outputId": "5f2a6dbc-da4d-4e59-a848-d9ee58d649bd"
      },
      "execution_count": null,
      "outputs": [
        {
          "output_type": "execute_result",
          "data": {
            "text/plain": [
              "[10, 1, 2, 3, 4, 5, 6, 7, 8, 7, 6, 5, 5]"
            ]
          },
          "metadata": {},
          "execution_count": 32
        }
      ]
    },
    {
      "cell_type": "code",
      "source": [
        "# Fibonacci Series"
      ],
      "metadata": {
        "id": "iF9msBR5rG9g"
      },
      "execution_count": null,
      "outputs": []
    },
    {
      "cell_type": "code",
      "source": [
        "x, y = 0, 1\n",
        "while x<10:\n",
        "  x, y = y, x+y\n",
        "print( x, y)"
      ],
      "metadata": {
        "colab": {
          "base_uri": "https://localhost:8080/"
        },
        "id": "inKt65XMrSV1",
        "outputId": "cde6afa9-9026-41fa-c1bf-d82ce15369a1"
      },
      "execution_count": null,
      "outputs": [
        {
          "output_type": "stream",
          "name": "stdout",
          "text": [
            "13 21\n"
          ]
        }
      ]
    },
    {
      "cell_type": "code",
      "source": [
        ""
      ],
      "metadata": {
        "id": "Uc3u3H2orqNW"
      },
      "execution_count": null,
      "outputs": []
    }
  ]
}